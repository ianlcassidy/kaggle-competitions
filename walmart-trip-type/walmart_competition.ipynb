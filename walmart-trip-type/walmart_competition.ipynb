{
 "cells": [
  {
   "cell_type": "markdown",
   "metadata": {},
   "source": [
    "## Initialize notebook"
   ]
  },
  {
   "cell_type": "code",
   "execution_count": 1,
   "metadata": {
    "collapsed": false
   },
   "outputs": [],
   "source": [
    "import numpy as np\n",
    "import pandas as pd\n",
    "import datetime\n",
    "\n",
    "from time import time\n",
    "import matplotlib.pyplot as plt\n",
    "\n",
    "from xgboost.sklearn import XGBClassifier\n",
    "from scipy.sparse import coo_matrix, hstack, csr_matrix, csc_matrix\n",
    "from scipy.stats import randint as sp_randint\n",
    "from operator import itemgetter\n",
    "import random\n",
    "\n",
    "from sklearn import cluster, mixture, metrics, cross_validation\n",
    "from sklearn.preprocessing import LabelEncoder\n",
    "from sklearn.feature_extraction import DictVectorizer\n",
    "from sklearn.feature_selection import VarianceThreshold\n",
    "from sklearn.ensemble import RandomForestClassifier, BaggingClassifier\n",
    "from sklearn.calibration import CalibratedClassifierCV\n",
    "from sklearn.grid_search import GridSearchCV, RandomizedSearchCV"
   ]
  },
  {
   "cell_type": "markdown",
   "metadata": {},
   "source": [
    "## Load data"
   ]
  },
  {
   "cell_type": "code",
   "execution_count": 2,
   "metadata": {
    "collapsed": false
   },
   "outputs": [
    {
     "data": {
      "text/html": [
       "<div>\n",
       "<table border=\"1\" class=\"dataframe\">\n",
       "  <thead>\n",
       "    <tr style=\"text-align: right;\">\n",
       "      <th></th>\n",
       "      <th>TripType</th>\n",
       "      <th>VisitNumber</th>\n",
       "      <th>Weekday</th>\n",
       "      <th>Upc</th>\n",
       "      <th>ScanCount</th>\n",
       "      <th>DepartmentDescription</th>\n",
       "      <th>FinelineNumber</th>\n",
       "    </tr>\n",
       "  </thead>\n",
       "  <tbody>\n",
       "    <tr>\n",
       "      <th>0</th>\n",
       "      <td>999</td>\n",
       "      <td>5</td>\n",
       "      <td>Friday</td>\n",
       "      <td>68113152929</td>\n",
       "      <td>-1</td>\n",
       "      <td>FINANCIAL SERVICES</td>\n",
       "      <td>1000</td>\n",
       "    </tr>\n",
       "    <tr>\n",
       "      <th>1</th>\n",
       "      <td>30</td>\n",
       "      <td>7</td>\n",
       "      <td>Friday</td>\n",
       "      <td>60538815980</td>\n",
       "      <td>1</td>\n",
       "      <td>SHOES</td>\n",
       "      <td>8931</td>\n",
       "    </tr>\n",
       "    <tr>\n",
       "      <th>2</th>\n",
       "      <td>30</td>\n",
       "      <td>7</td>\n",
       "      <td>Friday</td>\n",
       "      <td>7410811099</td>\n",
       "      <td>1</td>\n",
       "      <td>PERSONAL CARE</td>\n",
       "      <td>4504</td>\n",
       "    </tr>\n",
       "    <tr>\n",
       "      <th>3</th>\n",
       "      <td>26</td>\n",
       "      <td>8</td>\n",
       "      <td>Friday</td>\n",
       "      <td>2238403510</td>\n",
       "      <td>2</td>\n",
       "      <td>PAINT AND ACCESSORIES</td>\n",
       "      <td>3565</td>\n",
       "    </tr>\n",
       "    <tr>\n",
       "      <th>4</th>\n",
       "      <td>26</td>\n",
       "      <td>8</td>\n",
       "      <td>Friday</td>\n",
       "      <td>2006613744</td>\n",
       "      <td>2</td>\n",
       "      <td>PAINT AND ACCESSORIES</td>\n",
       "      <td>1017</td>\n",
       "    </tr>\n",
       "  </tbody>\n",
       "</table>\n",
       "</div>"
      ],
      "text/plain": [
       "   TripType  VisitNumber Weekday          Upc  ScanCount  \\\n",
       "0       999            5  Friday  68113152929         -1   \n",
       "1        30            7  Friday  60538815980          1   \n",
       "2        30            7  Friday   7410811099          1   \n",
       "3        26            8  Friday   2238403510          2   \n",
       "4        26            8  Friday   2006613744          2   \n",
       "\n",
       "   DepartmentDescription  FinelineNumber  \n",
       "0     FINANCIAL SERVICES            1000  \n",
       "1                  SHOES            8931  \n",
       "2          PERSONAL CARE            4504  \n",
       "3  PAINT AND ACCESSORIES            3565  \n",
       "4  PAINT AND ACCESSORIES            1017  "
      ]
     },
     "execution_count": 2,
     "metadata": {},
     "output_type": "execute_result"
    }
   ],
   "source": [
    "df_train = pd.read_csv('train.csv')\n",
    "df_test = pd.read_csv('test.csv')\n",
    "df_sample_sub = pd.read_csv('sample_submission.csv')\n",
    "df_train.head()"
   ]
  },
  {
   "cell_type": "markdown",
   "metadata": {},
   "source": [
    "## Create feature and label matrices"
   ]
  },
  {
   "cell_type": "code",
   "execution_count": 3,
   "metadata": {
    "collapsed": false
   },
   "outputs": [],
   "source": [
    "df_all = df_train\n",
    "df_all = df_all.drop('TripType', axis=1)\n",
    "idx_train = len(df_train[['TripType', 'VisitNumber']].groupby('VisitNumber', sort=False).first())\n",
    "\n",
    "df_all = pd.concat([df_all, df_test], ignore_index=True)\n",
    "df_all = df_all.fillna(value=-1)\n",
    "df_all_grouped = df_all.groupby('VisitNumber', sort=False)\n",
    "\n",
    "le = LabelEncoder()\n",
    "df_triptype_grouped = df_train[['TripType', 'VisitNumber']].groupby('VisitNumber', sort=False).first()\n",
    "y_train = pd.Series(le.fit_transform(df_triptype_grouped['TripType']))"
   ]
  },
  {
   "cell_type": "code",
   "execution_count": 4,
   "metadata": {
    "collapsed": false
   },
   "outputs": [],
   "source": [
    "def create_dict_vect(df, f, v):\n",
    "  f_dict = []\n",
    "  for g in df:\n",
    "    tmp_dict = {}\n",
    "    for k in g[1][f]:\n",
    "      if tmp_dict.has_key(k):\n",
    "        tmp_dict[k] += 1\n",
    "      else:\n",
    "        tmp_dict[k] = 1\n",
    "    f_dict.append(tmp_dict)\n",
    "  f_dict_vect = v.fit_transform(f_dict)\n",
    "  return f_dict_vect"
   ]
  },
  {
   "cell_type": "code",
   "execution_count": 6,
   "metadata": {
    "collapsed": false
   },
   "outputs": [
    {
     "name": "stdout",
     "output_type": "stream",
     "text": [
      "X_train shape: (95674, 17638)\n",
      "X_test shape: (95674, 17638)\n"
     ]
    }
   ],
   "source": [
    "X_all = coo_matrix(df_all[['VisitNumber', 'Upc']].groupby('VisitNumber', sort=False).first())\n",
    "v = DictVectorizer()\n",
    "ohe_feats = ['Weekday', 'ScanCount', 'DepartmentDescription', 'FinelineNumber', 'Upc']\n",
    "for f in ohe_feats:\n",
    "  f_dict_vect = create_dict_vect(df_all_grouped, f, v)\n",
    "  X_all = hstack((X_all, f_dict_vect)) \n",
    "\n",
    "p_sel = 0.9999\n",
    "selector = VarianceThreshold(threshold=p_sel*(1. - p_sel))\n",
    "X_all = selector.fit_transform(X_all)  \n",
    "  \n",
    "X_train = X_all.tocsr()[:idx_train, :]\n",
    "X_test = X_all.tocsr()[idx_train:np.shape(X_all)[0], :]\n",
    "\n",
    "print 'X_train shape: (%i, %i)' % (np.shape(X_train)[0], np.shape(X_train)[1])\n",
    "print 'X_test shape: (%i, %i)' % (np.shape(X_test)[0], np.shape(X_test)[1])"
   ]
  },
  {
   "cell_type": "markdown",
   "metadata": {},
   "source": [
    "## Grid Search"
   ]
  },
  {
   "cell_type": "code",
   "execution_count": 50,
   "metadata": {
    "collapsed": false
   },
   "outputs": [
    {
     "name": "stdout",
     "output_type": "stream",
     "text": [
      "RandomizedSearchCV took 43258.27 seconds for 30 candidates parameter settings.\n",
      "Model with rank: 1\n",
      "Mean validation score: -0.738 (std: 0.022)\n",
      "Parameters: {'n_estimators': 700, 'subsample': 0.90000000000000002, 'learning_rate': 0.05, 'colsample_bytree': 0.5, 'max_depth': 9}\n",
      "\n",
      "Model with rank: 2\n",
      "Mean validation score: -0.740 (std: 0.023)\n",
      "Parameters: {'n_estimators': 700, 'subsample': 0.80000000000000004, 'learning_rate': 0.15, 'colsample_bytree': 0.59999999999999998, 'max_depth': 4}\n",
      "\n",
      "Model with rank: 3\n",
      "Mean validation score: -0.745 (std: 0.024)\n",
      "Parameters: {'n_estimators': 600, 'subsample': 0.90000000000000002, 'learning_rate': 0.1, 'colsample_bytree': 0.5, 'max_depth': 8}\n",
      "\n"
     ]
    }
   ],
   "source": [
    "# Utility function to report best scores\n",
    "def report(grid_scores, n_top=3):\n",
    "    top_scores = sorted(grid_scores, key=itemgetter(1), reverse=True)[:n_top]\n",
    "    for i, score in enumerate(top_scores):\n",
    "        print(\"Model with rank: {0}\".format(i + 1))\n",
    "        print(\"Mean validation score: {0:.3f} (std: {1:.3f})\".format(\n",
    "              score.mean_validation_score,\n",
    "              np.std(score.cv_validation_scores)))\n",
    "        print(\"Parameters: {0}\".format(score.parameters))\n",
    "        print(\"\")\n",
    "\n",
    "clf = XGBClassifier(nthread=4, objective='multi:softprob', seed=42)\n",
    "# specify parameters and distributions to sample from\n",
    "param_dist = {\"n_estimators\": np.array(range(1,10))*100,\n",
    "              \"max_depth\": np.array(range(3,10)),\n",
    "              \"learning_rate\": [0.01, 0.02, 0.05, 0.1, 0.15, 0.2, 0.25, 0.3, 0.35],\n",
    "              \"subsample\": np.array(range(1,10))/10.,\n",
    "              \"colsample_bytree\": np.array(range(1,10))/10.}\n",
    "\n",
    "# run randomized search\n",
    "n_iter_search = 30\n",
    "random_search = RandomizedSearchCV(clf, param_distributions=param_dist,\n",
    "                                   n_iter=n_iter_search, scoring='log_loss',\n",
    "                                   n_jobs=4)\n",
    "\n",
    "start = time()\n",
    "random_search.fit(X_train, y_train)\n",
    "print(\"RandomizedSearchCV took %.2f seconds for %d candidates\"\n",
    "      \" parameter settings.\" % ((time() - start), n_iter_search))\n",
    "report(random_search.grid_scores_)"
   ]
  },
  {
   "cell_type": "markdown",
   "metadata": {},
   "source": [
    "## CV, train model, and predict"
   ]
  },
  {
   "cell_type": "code",
   "execution_count": 19,
   "metadata": {
    "collapsed": true
   },
   "outputs": [],
   "source": [
    "def compute_error(clf, X, y, n_iter=20):\n",
    "  cv = cross_validation.StratifiedShuffleSplit(y, n_iter=n_iter, train_size=0.5,\n",
    "                                               test_size=0.5, random_state=42)\n",
    "  return -cross_validation.cross_val_score(clf, X, y, cv=cv, scoring='log_loss').mean()"
   ]
  },
  {
   "cell_type": "code",
   "execution_count": 56,
   "metadata": {
    "collapsed": false
   },
   "outputs": [],
   "source": [
    "clf = XGBClassifier(max_depth=9, learning_rate=0.05, n_estimators=700, nthread=4,\n",
    "                    objective='multi:softprob', subsample=0.9, colsample_bytree=0.5, seed=42)\n",
    "\n",
    "# claibration did not help LB score\n",
    "# clf = CalibratedClassifierCV(clf, method='isotonic', cv=3)\n",
    "\n",
    "compute_error(clf, X_train, y_train, n_iter=3)"
   ]
  },
  {
   "cell_type": "code",
   "execution_count": 23,
   "metadata": {
    "collapsed": false
   },
   "outputs": [
    {
     "data": {
      "text/plain": [
       "1.1467961166451774"
      ]
     },
     "execution_count": 23,
     "metadata": {},
     "output_type": "execute_result"
    }
   ],
   "source": [
    "# check to see how well RF can do\n",
    "clf_rf = RandomForestClassifier(n_estimators=200, n_jobs=4)\n",
    "compute_error(clf_rf, X_train, y_train, n_iter=3)"
   ]
  },
  {
   "cell_type": "code",
   "execution_count": 57,
   "metadata": {
    "collapsed": false
   },
   "outputs": [],
   "source": [
    "clf_fit = clf.fit(X_train,y_train)\n",
    "y_pred_proba = clf_fit.predict_proba(X_test)"
   ]
  },
  {
   "cell_type": "markdown",
   "metadata": {},
   "source": [
    "## Convert to submission"
   ]
  },
  {
   "cell_type": "code",
   "execution_count": 58,
   "metadata": {
    "collapsed": false
   },
   "outputs": [
    {
     "data": {
      "text/html": [
       "<div>\n",
       "<table border=\"1\" class=\"dataframe\">\n",
       "  <thead>\n",
       "    <tr style=\"text-align: right;\">\n",
       "      <th></th>\n",
       "      <th>VisitNumber</th>\n",
       "      <th>TripType_3</th>\n",
       "      <th>TripType_4</th>\n",
       "      <th>TripType_5</th>\n",
       "      <th>TripType_6</th>\n",
       "      <th>TripType_7</th>\n",
       "      <th>TripType_8</th>\n",
       "      <th>TripType_9</th>\n",
       "      <th>TripType_12</th>\n",
       "      <th>TripType_14</th>\n",
       "      <th>...</th>\n",
       "      <th>TripType_36</th>\n",
       "      <th>TripType_37</th>\n",
       "      <th>TripType_38</th>\n",
       "      <th>TripType_39</th>\n",
       "      <th>TripType_40</th>\n",
       "      <th>TripType_41</th>\n",
       "      <th>TripType_42</th>\n",
       "      <th>TripType_43</th>\n",
       "      <th>TripType_44</th>\n",
       "      <th>TripType_999</th>\n",
       "    </tr>\n",
       "  </thead>\n",
       "  <tbody>\n",
       "    <tr>\n",
       "      <th>0</th>\n",
       "      <td>1</td>\n",
       "      <td>0.000005</td>\n",
       "      <td>4.465438e-06</td>\n",
       "      <td>0.000088</td>\n",
       "      <td>0.000010</td>\n",
       "      <td>0.001075</td>\n",
       "      <td>0.005318</td>\n",
       "      <td>0.007061</td>\n",
       "      <td>1.754568e-04</td>\n",
       "      <td>2.198787e-06</td>\n",
       "      <td>...</td>\n",
       "      <td>0.000205</td>\n",
       "      <td>0.000404</td>\n",
       "      <td>0.211743</td>\n",
       "      <td>0.023643</td>\n",
       "      <td>1.200963e-04</td>\n",
       "      <td>4.206564e-03</td>\n",
       "      <td>0.004250</td>\n",
       "      <td>0.001600</td>\n",
       "      <td>7.226085e-04</td>\n",
       "      <td>0.001359</td>\n",
       "    </tr>\n",
       "    <tr>\n",
       "      <th>1</th>\n",
       "      <td>2</td>\n",
       "      <td>0.000017</td>\n",
       "      <td>3.848299e-05</td>\n",
       "      <td>0.000837</td>\n",
       "      <td>0.000248</td>\n",
       "      <td>0.024174</td>\n",
       "      <td>0.099505</td>\n",
       "      <td>0.025481</td>\n",
       "      <td>1.419016e-03</td>\n",
       "      <td>1.317934e-04</td>\n",
       "      <td>...</td>\n",
       "      <td>0.004234</td>\n",
       "      <td>0.001293</td>\n",
       "      <td>0.021121</td>\n",
       "      <td>0.257103</td>\n",
       "      <td>3.874413e-04</td>\n",
       "      <td>2.061556e-03</td>\n",
       "      <td>0.011507</td>\n",
       "      <td>0.017898</td>\n",
       "      <td>1.232277e-03</td>\n",
       "      <td>0.032326</td>\n",
       "    </tr>\n",
       "    <tr>\n",
       "      <th>2</th>\n",
       "      <td>3</td>\n",
       "      <td>0.000001</td>\n",
       "      <td>1.036443e-07</td>\n",
       "      <td>0.000008</td>\n",
       "      <td>0.000004</td>\n",
       "      <td>0.000085</td>\n",
       "      <td>0.002931</td>\n",
       "      <td>0.000526</td>\n",
       "      <td>6.809674e-07</td>\n",
       "      <td>5.236754e-08</td>\n",
       "      <td>...</td>\n",
       "      <td>0.000482</td>\n",
       "      <td>0.000002</td>\n",
       "      <td>0.000012</td>\n",
       "      <td>0.000031</td>\n",
       "      <td>1.772846e-06</td>\n",
       "      <td>9.473791e-07</td>\n",
       "      <td>0.000006</td>\n",
       "      <td>0.000002</td>\n",
       "      <td>9.304792e-07</td>\n",
       "      <td>0.995844</td>\n",
       "    </tr>\n",
       "    <tr>\n",
       "      <th>3</th>\n",
       "      <td>4</td>\n",
       "      <td>0.000009</td>\n",
       "      <td>3.836252e-06</td>\n",
       "      <td>0.000293</td>\n",
       "      <td>0.000251</td>\n",
       "      <td>0.004038</td>\n",
       "      <td>0.074584</td>\n",
       "      <td>0.891093</td>\n",
       "      <td>2.097186e-05</td>\n",
       "      <td>6.797906e-06</td>\n",
       "      <td>...</td>\n",
       "      <td>0.000219</td>\n",
       "      <td>0.000063</td>\n",
       "      <td>0.000366</td>\n",
       "      <td>0.000391</td>\n",
       "      <td>3.079999e-05</td>\n",
       "      <td>3.487444e-05</td>\n",
       "      <td>0.000927</td>\n",
       "      <td>0.000064</td>\n",
       "      <td>2.618969e-05</td>\n",
       "      <td>0.013701</td>\n",
       "    </tr>\n",
       "    <tr>\n",
       "      <th>4</th>\n",
       "      <td>6</td>\n",
       "      <td>0.000001</td>\n",
       "      <td>7.722124e-08</td>\n",
       "      <td>0.000004</td>\n",
       "      <td>0.000004</td>\n",
       "      <td>0.000103</td>\n",
       "      <td>0.000305</td>\n",
       "      <td>0.003318</td>\n",
       "      <td>7.276828e-07</td>\n",
       "      <td>4.027261e-08</td>\n",
       "      <td>...</td>\n",
       "      <td>0.000004</td>\n",
       "      <td>0.000001</td>\n",
       "      <td>0.000008</td>\n",
       "      <td>0.000009</td>\n",
       "      <td>7.525238e-07</td>\n",
       "      <td>2.101111e-06</td>\n",
       "      <td>0.000014</td>\n",
       "      <td>0.000002</td>\n",
       "      <td>1.198439e-06</td>\n",
       "      <td>0.995787</td>\n",
       "    </tr>\n",
       "  </tbody>\n",
       "</table>\n",
       "<p>5 rows × 39 columns</p>\n",
       "</div>"
      ],
      "text/plain": [
       "   VisitNumber  TripType_3    TripType_4  TripType_5  TripType_6  TripType_7  \\\n",
       "0            1    0.000005  4.465438e-06    0.000088    0.000010    0.001075   \n",
       "1            2    0.000017  3.848299e-05    0.000837    0.000248    0.024174   \n",
       "2            3    0.000001  1.036443e-07    0.000008    0.000004    0.000085   \n",
       "3            4    0.000009  3.836252e-06    0.000293    0.000251    0.004038   \n",
       "4            6    0.000001  7.722124e-08    0.000004    0.000004    0.000103   \n",
       "\n",
       "   TripType_8  TripType_9   TripType_12   TripType_14      ...       \\\n",
       "0    0.005318    0.007061  1.754568e-04  2.198787e-06      ...        \n",
       "1    0.099505    0.025481  1.419016e-03  1.317934e-04      ...        \n",
       "2    0.002931    0.000526  6.809674e-07  5.236754e-08      ...        \n",
       "3    0.074584    0.891093  2.097186e-05  6.797906e-06      ...        \n",
       "4    0.000305    0.003318  7.276828e-07  4.027261e-08      ...        \n",
       "\n",
       "   TripType_36  TripType_37  TripType_38  TripType_39   TripType_40  \\\n",
       "0     0.000205     0.000404     0.211743     0.023643  1.200963e-04   \n",
       "1     0.004234     0.001293     0.021121     0.257103  3.874413e-04   \n",
       "2     0.000482     0.000002     0.000012     0.000031  1.772846e-06   \n",
       "3     0.000219     0.000063     0.000366     0.000391  3.079999e-05   \n",
       "4     0.000004     0.000001     0.000008     0.000009  7.525238e-07   \n",
       "\n",
       "    TripType_41  TripType_42  TripType_43   TripType_44  TripType_999  \n",
       "0  4.206564e-03     0.004250     0.001600  7.226085e-04      0.001359  \n",
       "1  2.061556e-03     0.011507     0.017898  1.232277e-03      0.032326  \n",
       "2  9.473791e-07     0.000006     0.000002  9.304792e-07      0.995844  \n",
       "3  3.487444e-05     0.000927     0.000064  2.618969e-05      0.013701  \n",
       "4  2.101111e-06     0.000014     0.000002  1.198439e-06      0.995787  \n",
       "\n",
       "[5 rows x 39 columns]"
      ]
     },
     "execution_count": 58,
     "metadata": {},
     "output_type": "execute_result"
    }
   ],
   "source": [
    "col_names = ['TripType_%i' % val for val in le.inverse_transform(clf_fit.classes_)]\n",
    "df_pred = pd.DataFrame(y_pred_proba, columns=col_names)\n",
    "\n",
    "tmp = df_test[['VisitNumber', 'Weekday']].groupby('VisitNumber').first()\n",
    "df_pred.insert(0, 'VisitNumber', tmp.index)\n",
    "df_pred.head()"
   ]
  },
  {
   "cell_type": "code",
   "execution_count": 59,
   "metadata": {
    "collapsed": true
   },
   "outputs": [],
   "source": [
    "df_pred.to_csv('my_submission.csv', sep=',', index=False)"
   ]
  }
 ],
 "metadata": {
  "kernelspec": {
   "display_name": "Python 2",
   "language": "python",
   "name": "python2"
  },
  "language_info": {
   "codemirror_mode": {
    "name": "ipython",
    "version": 2
   },
   "file_extension": ".py",
   "mimetype": "text/x-python",
   "name": "python",
   "nbconvert_exporter": "python",
   "pygments_lexer": "ipython2",
   "version": "2.7.10"
  }
 },
 "nbformat": 4,
 "nbformat_minor": 0
}
