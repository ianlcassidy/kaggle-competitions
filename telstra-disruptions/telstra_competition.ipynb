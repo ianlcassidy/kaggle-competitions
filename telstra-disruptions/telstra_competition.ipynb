{
 "cells": [
  {
   "cell_type": "markdown",
   "metadata": {},
   "source": [
    "## Initialize notebook"
   ]
  },
  {
   "cell_type": "code",
   "execution_count": 1,
   "metadata": {
    "collapsed": false
   },
   "outputs": [],
   "source": [
    "import numpy as np\n",
    "import pandas as pd\n",
    "import datetime\n",
    "from ensemble import EnsembleClassifier\n",
    "\n",
    "from time import time\n",
    "import matplotlib.pyplot as plt\n",
    "import seaborn\n",
    "%matplotlib inline\n",
    "from mpl_toolkits.mplot3d import Axes3D\n",
    "\n",
    "from xgboost.sklearn import XGBClassifier\n",
    "from scipy.sparse import coo_matrix, hstack, csr_matrix, csc_matrix\n",
    "from scipy.stats import randint, truncnorm, uniform\n",
    "from scipy.stats.mstats import gmean\n",
    "from operator import itemgetter\n",
    "import random\n",
    "\n",
    "from sklearn import cluster, mixture, metrics, cross_validation\n",
    "from sklearn.base import BaseEstimator, ClassifierMixin\n",
    "from sklearn.preprocessing import LabelEncoder\n",
    "from sklearn.feature_extraction import DictVectorizer\n",
    "from sklearn.feature_selection import VarianceThreshold\n",
    "from sklearn.ensemble import RandomForestClassifier, ExtraTreesClassifier, GradientBoostingClassifier\n",
    "from sklearn.linear_model import LogisticRegression\n",
    "from sklearn.calibration import CalibratedClassifierCV\n",
    "from sklearn.grid_search import GridSearchCV, RandomizedSearchCV\n",
    "from sklearn.neighbors.kde import KernelDensity"
   ]
  },
  {
   "cell_type": "markdown",
   "metadata": {},
   "source": [
    "## Define custom code"
   ]
  },
  {
   "cell_type": "code",
   "execution_count": 2,
   "metadata": {
    "collapsed": false
   },
   "outputs": [],
   "source": [
    "# Utility function to report best scores\n",
    "def grid_search_report(grid_scores, n_top=3):\n",
    "  top_scores = sorted(grid_scores, key=itemgetter(1), reverse=True)[:n_top]\n",
    "  for i, score in enumerate(top_scores):\n",
    "    print('Model with rank: {0}'.format(i + 1))\n",
    "    print('Mean validation score: {0:.3f} (std: {1:.3f})'.format(\n",
    "          score.mean_validation_score,\n",
    "          np.std(score.cv_validation_scores)))\n",
    "    print('Parameters: {0}'.format(score.parameters))\n",
    "    print('')\n",
    "    \n",
    "def compute_error(clf, X, y, n_iter=20):\n",
    "#   cv = cross_validation.ShuffleSplit(len(y), n_iter=n_iter, train_size=0.5,\n",
    "#                                      test_size=0.5, random_state=42)\n",
    "  cv = cross_validation.StratifiedShuffleSplit(y, n_iter=n_iter, train_size=0.8,\n",
    "                                               test_size=0.2, random_state=42)\n",
    "  return -cross_validation.cross_val_score(clf, X, y, cv=cv, scoring='log_loss').mean()"
   ]
  },
  {
   "cell_type": "markdown",
   "metadata": {},
   "source": [
    "## Load data"
   ]
  },
  {
   "cell_type": "code",
   "execution_count": 3,
   "metadata": {
    "collapsed": false
   },
   "outputs": [],
   "source": [
    "df_train = pd.read_csv('train.csv')\n",
    "df_test = pd.read_csv('test.csv')\n",
    "df_sample_sub = pd.read_csv('sample_submission.csv')\n",
    "df_event = pd.read_csv('event_type.csv')\n",
    "df_log = pd.read_csv('log_feature.csv')\n",
    "df_resource = pd.read_csv('resource_type.csv')\n",
    "df_severity = pd.read_csv('severity_type.csv')"
   ]
  },
  {
   "cell_type": "markdown",
   "metadata": {},
   "source": [
    "## Combine data and visualize "
   ]
  },
  {
   "cell_type": "code",
   "execution_count": 4,
   "metadata": {
    "collapsed": false
   },
   "outputs": [
    {
     "data": {
      "text/html": [
       "<div>\n",
       "<table border=\"1\" class=\"dataframe\">\n",
       "  <thead>\n",
       "    <tr style=\"text-align: right;\">\n",
       "      <th></th>\n",
       "      <th>location</th>\n",
       "      <th>train_test</th>\n",
       "      <th>event_type</th>\n",
       "      <th>log_feature</th>\n",
       "      <th>volume</th>\n",
       "      <th>resource_type</th>\n",
       "      <th>severity_type</th>\n",
       "    </tr>\n",
       "    <tr>\n",
       "      <th>id</th>\n",
       "      <th></th>\n",
       "      <th></th>\n",
       "      <th></th>\n",
       "      <th></th>\n",
       "      <th></th>\n",
       "      <th></th>\n",
       "      <th></th>\n",
       "    </tr>\n",
       "  </thead>\n",
       "  <tbody>\n",
       "    <tr>\n",
       "      <th>1</th>\n",
       "      <td>601</td>\n",
       "      <td>0</td>\n",
       "      <td>11</td>\n",
       "      <td>68</td>\n",
       "      <td>2</td>\n",
       "      <td>8</td>\n",
       "      <td>1</td>\n",
       "    </tr>\n",
       "    <tr>\n",
       "      <th>1</th>\n",
       "      <td>601</td>\n",
       "      <td>0</td>\n",
       "      <td>11</td>\n",
       "      <td>68</td>\n",
       "      <td>2</td>\n",
       "      <td>6</td>\n",
       "      <td>1</td>\n",
       "    </tr>\n",
       "    <tr>\n",
       "      <th>1</th>\n",
       "      <td>601</td>\n",
       "      <td>0</td>\n",
       "      <td>11</td>\n",
       "      <td>345</td>\n",
       "      <td>2</td>\n",
       "      <td>8</td>\n",
       "      <td>1</td>\n",
       "    </tr>\n",
       "    <tr>\n",
       "      <th>1</th>\n",
       "      <td>601</td>\n",
       "      <td>0</td>\n",
       "      <td>11</td>\n",
       "      <td>345</td>\n",
       "      <td>2</td>\n",
       "      <td>6</td>\n",
       "      <td>1</td>\n",
       "    </tr>\n",
       "    <tr>\n",
       "      <th>1</th>\n",
       "      <td>601</td>\n",
       "      <td>0</td>\n",
       "      <td>11</td>\n",
       "      <td>179</td>\n",
       "      <td>1</td>\n",
       "      <td>8</td>\n",
       "      <td>1</td>\n",
       "    </tr>\n",
       "  </tbody>\n",
       "</table>\n",
       "</div>"
      ],
      "text/plain": [
       "    location  train_test  event_type  log_feature  volume  resource_type  \\\n",
       "id                                                                         \n",
       "1        601           0          11           68       2              8   \n",
       "1        601           0          11           68       2              6   \n",
       "1        601           0          11          345       2              8   \n",
       "1        601           0          11          345       2              6   \n",
       "1        601           0          11          179       1              8   \n",
       "\n",
       "    severity_type  \n",
       "id                 \n",
       "1               1  \n",
       "1               1  \n",
       "1               1  \n",
       "1               1  \n",
       "1               1  "
      ]
     },
     "execution_count": 4,
     "metadata": {},
     "output_type": "execute_result"
    }
   ],
   "source": [
    "df_comb = df_train\n",
    "df_comb['train_test'] = 0\n",
    "df_test['train_test'] = 1\n",
    "\n",
    "df_comb = df_comb.drop('fault_severity', axis=1)\n",
    "df_comb = pd.concat([df_comb, df_test], ignore_index=True)\n",
    "df_comb = df_comb.set_index('id')\n",
    "df_comb['location'] = [int(a.replace('location ', '')) for a in df_comb['location']]\n",
    "\n",
    "tmp = df_event\n",
    "tmp = tmp.set_index('id')\n",
    "tmp['event_type'] = [int(a.replace('event_type ', '')) for a in tmp['event_type']]\n",
    "df_comb = pd.merge(df_comb, tmp, how='left', left_index=True, right_index=True)\n",
    "\n",
    "tmp = df_log\n",
    "tmp = tmp.set_index('id')\n",
    "tmp['log_feature'] = [int(a.replace('feature ', '')) for a in tmp['log_feature']]\n",
    "df_comb = pd.merge(df_comb, tmp, how='left', left_index=True, right_index=True)\n",
    "\n",
    "tmp = df_resource\n",
    "tmp = tmp.set_index('id')\n",
    "tmp['resource_type'] = [int(a.replace('resource_type ', '')) for a in tmp['resource_type']]\n",
    "df_comb = pd.merge(df_comb, tmp, how='left', left_index=True, right_index=True)\n",
    "\n",
    "tmp = df_severity\n",
    "tmp = tmp.set_index('id')\n",
    "tmp['severity_type'] = [int(a.replace('severity_type ', '')) for a in tmp['severity_type']]\n",
    "df_comb = pd.merge(df_comb, tmp, how='left', left_index=True, right_index=True)\n",
    "\n",
    "df_comb.head()"
   ]
  },
  {
   "cell_type": "code",
   "execution_count": 55,
   "metadata": {
    "collapsed": false
   },
   "outputs": [
    {
     "name": "stdout",
     "output_type": "stream",
     "text": [
      "location: 1126\n",
      "train_test: 2\n",
      "event_type: 53\n",
      "log_feature: 386\n",
      "volume: 341\n",
      "resource_type: 10\n",
      "severity_type: 5\n",
      "\n",
      "sum total: 1923\n"
     ]
    }
   ],
   "source": [
    "sum_feats = 0\n",
    "for c in df_comb.columns:\n",
    "  print '%s: %i' % (c, len(np.unique(df_comb[c])))\n",
    "  sum_feats += len(np.unique(df_comb[c]))\n",
    "  \n",
    "print ''\n",
    "print 'sum total: %i' % sum_feats"
   ]
  },
  {
   "cell_type": "code",
   "execution_count": 23,
   "metadata": {
    "collapsed": false
   },
   "outputs": [
    {
     "data": {
      "image/png": "[encoded data removed]",
      "text/plain": [
       "<matplotlib.figure.Figure at 0x10b6fc510>"
      ]
     },
     "metadata": {},
     "output_type": "display_data"
    }
   ],
   "source": [
    "plt.figure(figsize=(10, 6))\n",
    "plt.hist(np.array(df_comb['location']), 100, normed=True)\n",
    "plt.show()"
   ]
  },
  {
   "cell_type": "code",
   "execution_count": 6,
   "metadata": {
    "collapsed": false
   },
   "outputs": [
    {
     "data": {
      "image/png": "[encoded data removed]",
      "text/plain": [
       "<matplotlib.figure.Figure at 0x10e5b3bd0>"
      ]
     },
     "metadata": {},
     "output_type": "display_data"
    }
   ],
   "source": [
    "X = np.array(df_comb['event_type'])\n",
    "X = X.reshape(-1, 1)\n",
    "X_plot = np.linspace(0, 60, 1000)[:, np.newaxis]\n",
    "\n",
    "kde = KernelDensity(kernel='cosine', bandwidth=0.5).fit(X)\n",
    "log_dens = kde.score_samples(X_plot)\n",
    "\n",
    "plt.figure(figsize=(10, 6))\n",
    "plt.plot(X_plot[:, 0], np.exp(log_dens))\n",
    "plt.show()"
   ]
  },
  {
   "cell_type": "code",
   "execution_count": 61,
   "metadata": {
    "collapsed": false
   },
   "outputs": [
    {
     "data": {
      "image/png": "[encoded data removed]",
      "text/plain": [
       "<matplotlib.figure.Figure at 0x110219210>"
      ]
     },
     "metadata": {},
     "output_type": "display_data"
    }
   ],
   "source": [
    "plt.figure(figsize=(10, 6))\n",
    "plt.scatter(np.array(df_comb['location']), np.array(df_comb['event_type']))\n",
    "plt.show()"
   ]
  },
  {
   "cell_type": "code",
   "execution_count": 34,
   "metadata": {
    "collapsed": false
   },
   "outputs": [
    {
     "data": {
      "text/plain": [
       "29"
      ]
     },
     "execution_count": 34,
     "metadata": {},
     "output_type": "execute_result"
    }
   ],
   "source": [
    "a = df_comb[['resource_type', 'severity_type']]\n",
    "a = a.drop_duplicates()\n",
    "a = a.reset_index(drop=True)\n",
    "a['map'] = a.index\n",
    "len(a)"
   ]
  },
  {
   "cell_type": "code",
   "execution_count": 11,
   "metadata": {
    "collapsed": false
   },
   "outputs": [
    {
     "data": {
      "image/png": "[encoded data removed]",
      "text/plain": [
       "<matplotlib.figure.Figure at 0x10d899290>"
      ]
     },
     "metadata": {},
     "output_type": "display_data"
    }
   ],
   "source": [
    "fig = plt.figure(figsize=(12, 8))\n",
    "ax = fig.add_subplot(111, projection='3d')\n",
    "ax.scatter(np.array(df_comb['severity_type']), \n",
    "           np.array(df_comb['resource_type']),\n",
    "           np.array(df_comb['event_type']))\n",
    "ax.set_xlabel('severity')\n",
    "ax.set_ylabel('resource')\n",
    "ax.set_zlabel('event')\n",
    "plt.show()"
   ]
  },
  {
   "cell_type": "markdown",
   "metadata": {},
   "source": [
    "## Create feature and label matrices (approach #1)"
   ]
  },
  {
   "cell_type": "code",
   "execution_count": 41,
   "metadata": {
    "collapsed": false
   },
   "outputs": [
    {
     "data": {
      "text/html": [
       "<div>\n",
       "<table border=\"1\" class=\"dataframe\">\n",
       "  <thead>\n",
       "    <tr style=\"text-align: right;\">\n",
       "      <th></th>\n",
       "      <th>location</th>\n",
       "      <th>train_test</th>\n",
       "      <th>event_type</th>\n",
       "      <th>log_feature</th>\n",
       "      <th>resource_type</th>\n",
       "      <th>severity_type</th>\n",
       "      <th>id</th>\n",
       "    </tr>\n",
       "    <tr>\n",
       "      <th>id</th>\n",
       "      <th></th>\n",
       "      <th></th>\n",
       "      <th></th>\n",
       "      <th></th>\n",
       "      <th></th>\n",
       "      <th></th>\n",
       "      <th></th>\n",
       "    </tr>\n",
       "  </thead>\n",
       "  <tbody>\n",
       "    <tr>\n",
       "      <th>1</th>\n",
       "      <td>601</td>\n",
       "      <td>0</td>\n",
       "      <td>11</td>\n",
       "      <td>68</td>\n",
       "      <td>8</td>\n",
       "      <td>1</td>\n",
       "      <td>1</td>\n",
       "    </tr>\n",
       "    <tr>\n",
       "      <th>1</th>\n",
       "      <td>601</td>\n",
       "      <td>0</td>\n",
       "      <td>11</td>\n",
       "      <td>68</td>\n",
       "      <td>6</td>\n",
       "      <td>1</td>\n",
       "      <td>1</td>\n",
       "    </tr>\n",
       "    <tr>\n",
       "      <th>1</th>\n",
       "      <td>601</td>\n",
       "      <td>0</td>\n",
       "      <td>11</td>\n",
       "      <td>345</td>\n",
       "      <td>8</td>\n",
       "      <td>1</td>\n",
       "      <td>1</td>\n",
       "    </tr>\n",
       "    <tr>\n",
       "      <th>1</th>\n",
       "      <td>601</td>\n",
       "      <td>0</td>\n",
       "      <td>11</td>\n",
       "      <td>345</td>\n",
       "      <td>6</td>\n",
       "      <td>1</td>\n",
       "      <td>1</td>\n",
       "    </tr>\n",
       "    <tr>\n",
       "      <th>1</th>\n",
       "      <td>601</td>\n",
       "      <td>0</td>\n",
       "      <td>11</td>\n",
       "      <td>179</td>\n",
       "      <td>8</td>\n",
       "      <td>1</td>\n",
       "      <td>1</td>\n",
       "    </tr>\n",
       "  </tbody>\n",
       "</table>\n",
       "</div>"
      ],
      "text/plain": [
       "    location  train_test  event_type  log_feature  resource_type  \\\n",
       "id                                                                 \n",
       "1        601           0          11           68              8   \n",
       "1        601           0          11           68              6   \n",
       "1        601           0          11          345              8   \n",
       "1        601           0          11          345              6   \n",
       "1        601           0          11          179              8   \n",
       "\n",
       "    severity_type  id  \n",
       "id                     \n",
       "1               1   1  \n",
       "1               1   1  \n",
       "1               1   1  \n",
       "1               1   1  \n",
       "1               1   1  "
      ]
     },
     "execution_count": 41,
     "metadata": {},
     "output_type": "execute_result"
    }
   ],
   "source": [
    "idx_train = len(df_train)\n",
    "df_all = df_comb\n",
    "\n",
    "y_train = df_train['fault_severity']\n",
    "\n",
    "# hist, edges = np.histogram(np.array(df_all['location']), 100)\n",
    "# df_all['location'] = np.digitize(np.array(df_all['location']), edges)\n",
    "\n",
    "# hist, edges = np.histogram(np.array(df_all['log_feature']), 40)\n",
    "# df_all['log_feature'] = np.digitize(np.array(df_all['log_feature']), edges)\n",
    "\n",
    "df_all = df_all.drop(['volume'], axis=1)\n",
    "\n",
    "df_all.head()"
   ]
  },
  {
   "cell_type": "code",
   "execution_count": 42,
   "metadata": {
    "collapsed": false
   },
   "outputs": [],
   "source": [
    "tmp = df_comb\n",
    "tmp['id'] = tmp.index\n",
    "tmp = tmp.reset_index(drop=True)\n",
    "df_vol = tmp[['id', 'volume']]\n",
    "\n",
    "vol_mean = df_vol.groupby('id', sort=False).mean()\n",
    "df_vol = df_vol.groupby('id', sort=False).sum()\n",
    "df_vol['vol_mean'] = vol_mean"
   ]
  },
  {
   "cell_type": "code",
   "execution_count": 43,
   "metadata": {
    "collapsed": false
   },
   "outputs": [
    {
     "data": {
      "text/html": [
       "<div>\n",
       "<table border=\"1\" class=\"dataframe\">\n",
       "  <thead>\n",
       "    <tr style=\"text-align: right;\">\n",
       "      <th></th>\n",
       "      <th>train_test</th>\n",
       "      <th>location_1</th>\n",
       "      <th>location_2</th>\n",
       "      <th>location_3</th>\n",
       "      <th>location_4</th>\n",
       "      <th>location_5</th>\n",
       "      <th>location_6</th>\n",
       "      <th>location_7</th>\n",
       "      <th>location_8</th>\n",
       "      <th>location_9</th>\n",
       "      <th>...</th>\n",
       "      <th>resource_type_8</th>\n",
       "      <th>resource_type_9</th>\n",
       "      <th>resource_type_10</th>\n",
       "      <th>severity_type_1</th>\n",
       "      <th>severity_type_2</th>\n",
       "      <th>severity_type_3</th>\n",
       "      <th>severity_type_4</th>\n",
       "      <th>severity_type_5</th>\n",
       "      <th>volume</th>\n",
       "      <th>vol_mean</th>\n",
       "    </tr>\n",
       "    <tr>\n",
       "      <th>id</th>\n",
       "      <th></th>\n",
       "      <th></th>\n",
       "      <th></th>\n",
       "      <th></th>\n",
       "      <th></th>\n",
       "      <th></th>\n",
       "      <th></th>\n",
       "      <th></th>\n",
       "      <th></th>\n",
       "      <th></th>\n",
       "      <th></th>\n",
       "      <th></th>\n",
       "      <th></th>\n",
       "      <th></th>\n",
       "      <th></th>\n",
       "      <th></th>\n",
       "      <th></th>\n",
       "      <th></th>\n",
       "      <th></th>\n",
       "      <th></th>\n",
       "      <th></th>\n",
       "    </tr>\n",
       "  </thead>\n",
       "  <tbody>\n",
       "    <tr>\n",
       "      <th>1</th>\n",
       "      <td>0</td>\n",
       "      <td>0</td>\n",
       "      <td>0</td>\n",
       "      <td>0</td>\n",
       "      <td>0</td>\n",
       "      <td>0</td>\n",
       "      <td>0</td>\n",
       "      <td>0</td>\n",
       "      <td>0</td>\n",
       "      <td>0</td>\n",
       "      <td>...</td>\n",
       "      <td>6</td>\n",
       "      <td>0</td>\n",
       "      <td>0</td>\n",
       "      <td>12</td>\n",
       "      <td>0</td>\n",
       "      <td>0</td>\n",
       "      <td>0</td>\n",
       "      <td>0</td>\n",
       "      <td>20</td>\n",
       "      <td>1.666667</td>\n",
       "    </tr>\n",
       "    <tr>\n",
       "      <th>2</th>\n",
       "      <td>10</td>\n",
       "      <td>0</td>\n",
       "      <td>0</td>\n",
       "      <td>0</td>\n",
       "      <td>0</td>\n",
       "      <td>0</td>\n",
       "      <td>0</td>\n",
       "      <td>0</td>\n",
       "      <td>0</td>\n",
       "      <td>0</td>\n",
       "      <td>...</td>\n",
       "      <td>0</td>\n",
       "      <td>0</td>\n",
       "      <td>0</td>\n",
       "      <td>0</td>\n",
       "      <td>10</td>\n",
       "      <td>0</td>\n",
       "      <td>0</td>\n",
       "      <td>0</td>\n",
       "      <td>10</td>\n",
       "      <td>1.000000</td>\n",
       "    </tr>\n",
       "    <tr>\n",
       "      <th>3</th>\n",
       "      <td>1</td>\n",
       "      <td>0</td>\n",
       "      <td>0</td>\n",
       "      <td>0</td>\n",
       "      <td>0</td>\n",
       "      <td>0</td>\n",
       "      <td>0</td>\n",
       "      <td>0</td>\n",
       "      <td>0</td>\n",
       "      <td>0</td>\n",
       "      <td>...</td>\n",
       "      <td>1</td>\n",
       "      <td>0</td>\n",
       "      <td>0</td>\n",
       "      <td>1</td>\n",
       "      <td>0</td>\n",
       "      <td>0</td>\n",
       "      <td>0</td>\n",
       "      <td>0</td>\n",
       "      <td>2</td>\n",
       "      <td>2.000000</td>\n",
       "    </tr>\n",
       "    <tr>\n",
       "      <th>4</th>\n",
       "      <td>1</td>\n",
       "      <td>0</td>\n",
       "      <td>0</td>\n",
       "      <td>0</td>\n",
       "      <td>0</td>\n",
       "      <td>0</td>\n",
       "      <td>0</td>\n",
       "      <td>0</td>\n",
       "      <td>0</td>\n",
       "      <td>0</td>\n",
       "      <td>...</td>\n",
       "      <td>0</td>\n",
       "      <td>0</td>\n",
       "      <td>0</td>\n",
       "      <td>0</td>\n",
       "      <td>0</td>\n",
       "      <td>0</td>\n",
       "      <td>1</td>\n",
       "      <td>0</td>\n",
       "      <td>3</td>\n",
       "      <td>3.000000</td>\n",
       "    </tr>\n",
       "    <tr>\n",
       "      <th>5</th>\n",
       "      <td>0</td>\n",
       "      <td>0</td>\n",
       "      <td>0</td>\n",
       "      <td>0</td>\n",
       "      <td>0</td>\n",
       "      <td>0</td>\n",
       "      <td>0</td>\n",
       "      <td>0</td>\n",
       "      <td>0</td>\n",
       "      <td>0</td>\n",
       "      <td>...</td>\n",
       "      <td>0</td>\n",
       "      <td>0</td>\n",
       "      <td>0</td>\n",
       "      <td>0</td>\n",
       "      <td>4</td>\n",
       "      <td>0</td>\n",
       "      <td>0</td>\n",
       "      <td>0</td>\n",
       "      <td>34</td>\n",
       "      <td>8.500000</td>\n",
       "    </tr>\n",
       "  </tbody>\n",
       "</table>\n",
       "<p>5 rows × 1583 columns</p>\n",
       "</div>"
      ],
      "text/plain": [
       "    train_test  location_1  location_2  location_3  location_4  location_5  \\\n",
       "id                                                                           \n",
       "1            0           0           0           0           0           0   \n",
       "2           10           0           0           0           0           0   \n",
       "3            1           0           0           0           0           0   \n",
       "4            1           0           0           0           0           0   \n",
       "5            0           0           0           0           0           0   \n",
       "\n",
       "    location_6  location_7  location_8  location_9    ...     resource_type_8  \\\n",
       "id                                                    ...                       \n",
       "1            0           0           0           0    ...                   6   \n",
       "2            0           0           0           0    ...                   0   \n",
       "3            0           0           0           0    ...                   1   \n",
       "4            0           0           0           0    ...                   0   \n",
       "5            0           0           0           0    ...                   0   \n",
       "\n",
       "    resource_type_9  resource_type_10  severity_type_1  severity_type_2  \\\n",
       "id                                                                        \n",
       "1                 0                 0               12                0   \n",
       "2                 0                 0                0               10   \n",
       "3                 0                 0                1                0   \n",
       "4                 0                 0                0                0   \n",
       "5                 0                 0                0                4   \n",
       "\n",
       "    severity_type_3  severity_type_4  severity_type_5  volume  vol_mean  \n",
       "id                                                                       \n",
       "1                 0                0                0      20  1.666667  \n",
       "2                 0                0                0      10  1.000000  \n",
       "3                 0                0                0       2  2.000000  \n",
       "4                 0                1                0       3  3.000000  \n",
       "5                 0                0                0      34  8.500000  \n",
       "\n",
       "[5 rows x 1583 columns]"
      ]
     },
     "execution_count": 43,
     "metadata": {},
     "output_type": "execute_result"
    }
   ],
   "source": [
    "ohe_feats = ['location', 'event_type', 'log_feature', 'resource_type', 'severity_type']\n",
    "for f in ohe_feats:\n",
    "  tmp = pd.get_dummies(df_all[f], prefix=f)\n",
    "  df_all = df_all.drop([f], axis=1)\n",
    "  df_all = pd.concat((df_all, tmp), axis=1)\n",
    "\n",
    "df_all['id'] = df_all.index\n",
    "df_all = df_all.reset_index(drop=True)\n",
    "df_all = df_all.groupby('id', sort=False).sum()\n",
    "\n",
    "df_all = pd.merge(df_all, df_vol, how='left', left_index=True, right_index=True)\n",
    "df_all.head()"
   ]
  },
  {
   "cell_type": "code",
   "execution_count": 44,
   "metadata": {
    "collapsed": false
   },
   "outputs": [
    {
     "name": "stdout",
     "output_type": "stream",
     "text": [
      "X_train shape: (7381, 1583)\n",
      "X_test shape: (11171, 1583)\n"
     ]
    }
   ],
   "source": [
    "df_X_train = df_all[df_all['train_test'] == 0]\n",
    "df_X_test = df_all[df_all['train_test'] > 0]\n",
    "\n",
    "X_train = np.array(df_X_train)\n",
    "X_train = coo_matrix(X_train)\n",
    "X_train = X_train.tocsr()\n",
    "\n",
    "X_test = np.array(df_X_test)\n",
    "X_test = coo_matrix(X_test)\n",
    "X_test = X_test.tocsr()\n",
    "\n",
    "print 'X_train shape: (%i, %i)' % (np.shape(X_train)[0], np.shape(X_train)[1])\n",
    "print 'X_test shape: (%i, %i)' % (np.shape(X_test)[0], np.shape(X_test)[1])"
   ]
  },
  {
   "cell_type": "markdown",
   "metadata": {},
   "source": [
    "## Create feature and label matrices (approach #2)"
   ]
  },
  {
   "cell_type": "code",
   "execution_count": 7,
   "metadata": {
    "collapsed": false
   },
   "outputs": [
    {
     "data": {
      "text/plain": [
       "(18552, 1611)"
      ]
     },
     "execution_count": 7,
     "metadata": {},
     "output_type": "execute_result"
    }
   ],
   "source": [
    "df_all = df_train\n",
    "df_all = df_all.drop('fault_severity', axis=1)\n",
    "idx_train = len(df_train)\n",
    "\n",
    "df_all = pd.concat([df_all, df_test], ignore_index=True)\n",
    "df_all = df_all.set_index('id')\n",
    "\n",
    "y_train = df_train['fault_severity']\n",
    "\n",
    "# merge with event type\n",
    "tmp = pd.get_dummies(df_event['event_type'])\n",
    "tmp.insert(0, 'id', df_event['id'])\n",
    "tmp = tmp.groupby('id', sort=False).sum()\n",
    "\n",
    "df_all = pd.merge(df_all, tmp, how='left', left_index=True, right_index=True)\n",
    "# df_all['location'] = [int(a.replace('location ', '')) for a in df_all['location']]\n",
    "# hist, edges = np.histogram(np.array(df_all['location']), 200)\n",
    "# df_all['location'] = np.digitize(np.array(df_all['location']), edges)\n",
    "\n",
    "tmp = pd.get_dummies(df_all['location'], prefix='location')\n",
    "df_all = df_all.drop('location', axis=1)\n",
    "df_all = pd.concat((df_all, tmp), axis=1)\n",
    "\n",
    "# merge with log feature and volume\n",
    "tmp = df_log[['id', 'log_feature']]\n",
    "# tmp['log_feature'] = [int(a.replace('feature ', '')) for a in tmp['log_feature']]\n",
    "# hist, edges = np.histogram(np.array(tmp['log_feature']), 40)\n",
    "# tmp['log_feature'] = np.digitize(np.array(tmp['log_feature']), edges)\n",
    "\n",
    "tmp = pd.get_dummies(tmp['log_feature'], prefix='log_feature')\n",
    "# tmp = tmp.set_index('id')\n",
    "# tmp = pd.get_dummies(df_all['log_feature'])\n",
    "tmp.insert(0, 'id', df_log['id'])\n",
    "tmp = tmp.groupby('id', sort=False).sum()\n",
    "df_all = pd.merge(df_all, tmp, how='left', left_index=True, right_index=True)\n",
    "\n",
    "# tmp = pd.get_dummies(df_log['volume'])\n",
    "# tmp.insert(0, 'id', df_log['id'])\n",
    "# tmp = tmp.groupby('id', sort=False).sum()\n",
    "# df_all = pd.merge(df_all, tmp, how='left', left_index=True, right_index=True)\n",
    "\n",
    "tmp = df_log\n",
    "tmp = tmp.drop('log_feature', axis=1)\n",
    "log_mean = tmp.groupby('id', sort=False).mean()\n",
    "# log_std = tmp.groupby('id', sort=False).std()\n",
    "df_all.insert(0, 'log_mean', log_mean['volume'])\n",
    "# df_all.insert(0, 'log_std', log_std['volume'])\n",
    "\n",
    "# merge with resource type\n",
    "tmp = pd.get_dummies(df_resource['resource_type'])\n",
    "tmp.insert(0, 'id', df_resource['id'])\n",
    "tmp = tmp.groupby('id', sort=False).sum()\n",
    "df_all = pd.merge(df_all, tmp, how='left', left_index=True, right_index=True)\n",
    "\n",
    "# merge with severity type\n",
    "tmp = pd.get_dummies(df_severity['severity_type'])\n",
    "tmp.insert(0, 'id', df_severity['id'])\n",
    "tmp = tmp.groupby('id', sort=False).sum()\n",
    "df_all = pd.merge(df_all, tmp, how='left', left_index=True, right_index=True)\n",
    "\n",
    "# resource, severity combo\n",
    "tmp1 = df_resource\n",
    "tmp1 = tmp1.set_index('id')\n",
    "tmp2 = df_severity\n",
    "tmp2 = tmp2.set_index('id')\n",
    "\n",
    "df_rs = pd.merge(tmp1, tmp2, how='left', left_index=True, right_index=True)\n",
    "df_map = df_rs.drop_duplicates()\n",
    "df_rs['id'] = df_rs.index\n",
    "df_rs = df_rs.reset_index(drop=True)\n",
    "\n",
    "df_map = df_map.reset_index(drop=True)\n",
    "df_map['map'] = df_map.index\n",
    "rs_map = {df_map['resource_type'][ii] + ' ' + df_map['severity_type'][ii]: df_map['map'][ii] for ii in range(len(df_map))}\n",
    "df_rs['rs'] = [rs_map[df_rs['resource_type'][ii] + ' ' + df_rs['severity_type'][ii]] for ii in range(len(df_rs))]\n",
    "df_rs = df_rs.drop(['resource_type', 'severity_type'], axis=1)\n",
    "# df_rs = df_rs.set_index('id')\n",
    "\n",
    "tmp = pd.get_dummies(df_rs['rs'], prefix='rs')\n",
    "tmp.insert(0, 'id', df_rs['id'])\n",
    "tmp = tmp.groupby('id', sort=False).sum()\n",
    "df_all = pd.merge(df_all, tmp, how='left', left_index=True, right_index=True)\n",
    "\n",
    "# df_all = df_all.fillna(value=-1)\n",
    "np.shape(df_all)"
   ]
  },
  {
   "cell_type": "code",
   "execution_count": 8,
   "metadata": {
    "collapsed": false
   },
   "outputs": [
    {
     "name": "stdout",
     "output_type": "stream",
     "text": [
      "X_train shape: (7381, 1611)\n",
      "X_test shape: (11171, 1611)\n"
     ]
    }
   ],
   "source": [
    "X_all = np.array(df_all)\n",
    "X_all = coo_matrix(X_all) \n",
    "\n",
    "X_train = X_all.tocsr()[:idx_train, :]\n",
    "X_test = X_all.tocsr()[idx_train:np.shape(X_all)[0], :]\n",
    "\n",
    "print 'X_train shape: (%i, %i)' % (np.shape(X_train)[0], np.shape(X_train)[1])\n",
    "print 'X_test shape: (%i, %i)' % (np.shape(X_test)[0], np.shape(X_test)[1])"
   ]
  },
  {
   "cell_type": "markdown",
   "metadata": {},
   "source": [
    "## Grid search"
   ]
  },
  {
   "cell_type": "code",
   "execution_count": 115,
   "metadata": {
    "collapsed": false
   },
   "outputs": [
    {
     "name": "stdout",
     "output_type": "stream",
     "text": [
      "XGBClassifier\n",
      "RandomizedSearchCV took 146.55 seconds for 20 candidates parameter settings.\n",
      "Model with rank: 1\n",
      "Mean validation score: -0.556 (std: 0.011)\n",
      "Parameters: {'colsample_bytree': 0.39786199406487127, 'learning_rate': 0.035517148843314916, 'min_child_weight': 1, 'n_estimators': 783, 'subsample': 0.6044322124715861, 'max_depth': 8}\n",
      "\n",
      "Model with rank: 2\n",
      "Mean validation score: -0.564 (std: 0.011)\n",
      "Parameters: {'colsample_bytree': 0.33188978466746738, 'learning_rate': 0.1337876243103542, 'min_child_weight': 3, 'n_estimators': 711, 'subsample': 0.9133110425060593, 'max_depth': 3}\n",
      "\n",
      "Model with rank: 3\n",
      "Mean validation score: -0.573 (std: 0.011)\n",
      "Parameters: {'colsample_bytree': 0.23918050472309432, 'learning_rate': 0.22591358581058477, 'min_child_weight': 3, 'n_estimators': 442, 'subsample': 0.8027624678512595, 'max_depth': 6}\n",
      "\n"
     ]
    }
   ],
   "source": [
    "n_iter_search = 20\n",
    "\n",
    "print 'XGBClassifier'\n",
    "cv = cross_validation.StratifiedShuffleSplit(y_train, n_iter=5, test_size=0.2, random_state=42)\n",
    "clf = XGBClassifier(nthread=4, objective='multi:softprob', )\n",
    "# specify parameters and distributions to sample from\n",
    "param_dist = {'n_estimators': randint(25, 1000),\n",
    "              'max_depth': randint(3, 11),\n",
    "              'learning_rate': uniform(0.001, 0.3),\n",
    "              'subsample': uniform(0.01, 1.0),\n",
    "              'colsample_bytree': truncnorm(0.01, 1.0),\n",
    "              'min_child_weight': randint(1, 5)}\n",
    "\n",
    "# run randomized search\n",
    "random_search_xgb = RandomizedSearchCV(clf, param_distributions=param_dist,\n",
    "                                       n_iter=n_iter_search, scoring='log_loss',\n",
    "                                       n_jobs=4, cv=cv)\n",
    "\n",
    "start = time()\n",
    "random_search_xgb.fit(X_train, y_train)\n",
    "print('RandomizedSearchCV took %.2f seconds for %d candidates'\n",
    "      ' parameter settings.' % ((time() - start), n_iter_search))\n",
    "grid_search_report(random_search_xgb.grid_scores_)\n",
    "\n",
    "# print ''\n",
    "# print 'ExtraTreesClassifier'\n",
    "# cv = cross_validation.StratifiedShuffleSplit(y_train, n_iter=5, test_size=0.2, random_state=42)\n",
    "# clf = ExtraTreesClassifier(n_jobs=4, random_state=42, )\n",
    "# # specify parameters and distributions to sample from\n",
    "# param_dist = {'n_estimators': randint(25, 1000),\n",
    "#               'min_samples_split': randint(2, 10),\n",
    "#               'min_samples_leaf': randint(1, 10),\n",
    "#               'criterion': ['entropy', 'gini']}\n",
    "\n",
    "# # run randomized search\n",
    "# random_search_xt = RandomizedSearchCV(clf, param_distributions=param_dist,\n",
    "#                                       n_iter=n_iter_search, scoring='log_loss',\n",
    "#                                       n_jobs=4, cv=cv)\n",
    "\n",
    "# start = time()\n",
    "# random_search_xt.fit(X_train, y_train)\n",
    "# print('RandomizedSearchCV took %.2f seconds for %d candidates'\n",
    "#       ' parameter settings.' % ((time() - start), n_iter_search))\n",
    "# grid_search_report(random_search_xt.grid_scores_)"
   ]
  },
  {
   "cell_type": "markdown",
   "metadata": {},
   "source": [
    "## Single model"
   ]
  },
  {
   "cell_type": "code",
   "execution_count": 64,
   "metadata": {
    "collapsed": false
   },
   "outputs": [
    {
     "data": {
      "text/plain": [
       "0.62383376251504374"
      ]
     },
     "execution_count": 64,
     "metadata": {},
     "output_type": "execute_result"
    }
   ],
   "source": [
    "params = {'min_samples_split': 6, 'n_estimators': 826, 'criterion': 'gini', 'min_samples_leaf': 1}\n",
    "clf = ExtraTreesClassifier(n_jobs=4, random_state=42, class_weight='auto', **params)\n",
    "\n",
    "compute_error(clf, X_train, y_train, n_iter=5)"
   ]
  },
  {
   "cell_type": "code",
   "execution_count": 139,
   "metadata": {
    "collapsed": false
   },
   "outputs": [
    {
     "data": {
      "text/plain": [
       "0.95875127236514202"
      ]
     },
     "execution_count": 139,
     "metadata": {},
     "output_type": "execute_result"
    }
   ],
   "source": [
    "params = {'colsample_bytree': 0.58097287794373464, 'scale_pos_weight': 0.44124210321506946,\n",
    "          'learning_rate': 0.11250975103096984, 'n_estimators': 519, 'subsample': 0.9986943311413887,\n",
    "          'max_depth': 7}\n",
    "clf = XGBClassifier(nthread=4, objective='multi:softprob', **params)\n",
    "\n",
    "compute_error(clf, X_train, y_train, n_iter=5)"
   ]
  },
  {
   "cell_type": "code",
   "execution_count": 69,
   "metadata": {
    "collapsed": true
   },
   "outputs": [],
   "source": [
    "clf.fit(X_train, y_train)\n",
    "y_pred = clf.predict_proba(X_test)"
   ]
  },
  {
   "cell_type": "markdown",
   "metadata": {},
   "source": [
    "## Create ensemble (i.e., stacked) classifier CV, and predict"
   ]
  },
  {
   "cell_type": "code",
   "execution_count": 19,
   "metadata": {
    "collapsed": false
   },
   "outputs": [],
   "source": [
    "top_scores = sorted(random_search_xgb.grid_scores_, key=itemgetter(1), reverse=True)\n",
    "clfs = [XGBClassifier(nthread=4, objective='multi:softprob', seed=42, **top_scores[ii].parameters) \n",
    "        for ii in range(3)]\n",
    "\n",
    "top_scores = sorted(random_search_xt.grid_scores_, key=itemgetter(1), reverse=True)\n",
    "clfs2 = [ExtraTreesClassifier(n_jobs=4, random_state=42, **top_scores[ii].parameters) \n",
    "         for ii in range(3)]\n",
    "\n",
    "for ii in range(len(clfs)):\n",
    "  clfs.append(clfs2[ii])"
   ]
  },
  {
   "cell_type": "code",
   "execution_count": 20,
   "metadata": {
    "collapsed": false
   },
   "outputs": [
    {
     "data": {
      "text/plain": [
       "0.52607605210715636"
      ]
     },
     "execution_count": 20,
     "metadata": {},
     "output_type": "execute_result"
    }
   ],
   "source": [
    "eclf = EnsembleClassifier(clfs=clfs, voting='soft')\n",
    "compute_error(eclf, X_train, y_train, n_iter=5)"
   ]
  },
  {
   "cell_type": "code",
   "execution_count": 21,
   "metadata": {
    "collapsed": false
   },
   "outputs": [],
   "source": [
    "eclf.fit(X_train, y_train)\n",
    "y_pred = eclf.predict_proba(X_test)"
   ]
  },
  {
   "cell_type": "markdown",
   "metadata": {},
   "source": [
    "## Try NN"
   ]
  },
  {
   "cell_type": "code",
   "execution_count": 24,
   "metadata": {
    "collapsed": false
   },
   "outputs": [],
   "source": [
    "from sknn.mlp import Classifier, Layer\n",
    "from sknn.platform import gpu32"
   ]
  },
  {
   "cell_type": "code",
   "execution_count": 15,
   "metadata": {
    "collapsed": false
   },
   "outputs": [
    {
     "name": "stdout",
     "output_type": "stream",
     "text": [
      "time to train: 2406 seconds\n"
     ]
    }
   ],
   "source": [
    "start = time()\n",
    "nn = Classifier(layers=[Layer('Softmax')], learning_rate=0.01, n_iter=3, random_state=42)\n",
    "nn.fit(X_train, y_train)\n",
    "print 'time to train: %.2f seconds' % (time() - start)"
   ]
  },
  {
   "cell_type": "markdown",
   "metadata": {},
   "source": [
    "## Convert to submission"
   ]
  },
  {
   "cell_type": "code",
   "execution_count": 70,
   "metadata": {
    "collapsed": false
   },
   "outputs": [
    {
     "data": {
      "text/html": [
       "<div>\n",
       "<table border=\"1\" class=\"dataframe\">\n",
       "  <thead>\n",
       "    <tr style=\"text-align: right;\">\n",
       "      <th></th>\n",
       "      <th>id</th>\n",
       "      <th>predict_0</th>\n",
       "      <th>predict_1</th>\n",
       "      <th>predict_2</th>\n",
       "    </tr>\n",
       "  </thead>\n",
       "  <tbody>\n",
       "    <tr>\n",
       "      <th>0</th>\n",
       "      <td>11066</td>\n",
       "      <td>0.958707</td>\n",
       "      <td>0.040752</td>\n",
       "      <td>0.000541</td>\n",
       "    </tr>\n",
       "    <tr>\n",
       "      <th>1</th>\n",
       "      <td>18000</td>\n",
       "      <td>0.260293</td>\n",
       "      <td>0.119018</td>\n",
       "      <td>0.620690</td>\n",
       "    </tr>\n",
       "    <tr>\n",
       "      <th>2</th>\n",
       "      <td>16964</td>\n",
       "      <td>0.989899</td>\n",
       "      <td>0.009976</td>\n",
       "      <td>0.000124</td>\n",
       "    </tr>\n",
       "    <tr>\n",
       "      <th>3</th>\n",
       "      <td>4795</td>\n",
       "      <td>0.536059</td>\n",
       "      <td>0.457295</td>\n",
       "      <td>0.006646</td>\n",
       "    </tr>\n",
       "    <tr>\n",
       "      <th>4</th>\n",
       "      <td>3392</td>\n",
       "      <td>0.369821</td>\n",
       "      <td>0.491362</td>\n",
       "      <td>0.138817</td>\n",
       "    </tr>\n",
       "  </tbody>\n",
       "</table>\n",
       "</div>"
      ],
      "text/plain": [
       "      id  predict_0  predict_1  predict_2\n",
       "0  11066   0.958707   0.040752   0.000541\n",
       "1  18000   0.260293   0.119018   0.620690\n",
       "2  16964   0.989899   0.009976   0.000124\n",
       "3   4795   0.536059   0.457295   0.006646\n",
       "4   3392   0.369821   0.491362   0.138817"
      ]
     },
     "execution_count": 70,
     "metadata": {},
     "output_type": "execute_result"
    }
   ],
   "source": [
    "df_pred = pd.DataFrame(y_pred, columns=['predict_0', 'predict_1', 'predict_2'])\n",
    "df_pred.insert(0, 'id', df_test['id'])\n",
    "df_pred.head()"
   ]
  },
  {
   "cell_type": "code",
   "execution_count": 71,
   "metadata": {
    "collapsed": true
   },
   "outputs": [],
   "source": [
    "df_pred.to_csv('my_submission.csv', sep=',', index=False)"
   ]
  },
  {
   "cell_type": "code",
   "execution_count": null,
   "metadata": {
    "collapsed": true
   },
   "outputs": [],
   "source": []
  }
 ],
 "metadata": {
  "kernelspec": {
   "display_name": "Python 2",
   "language": "python",
   "name": "python2"
  },
  "language_info": {
   "codemirror_mode": {
    "name": "ipython",
    "version": 2
   },
   "file_extension": ".py",
   "mimetype": "text/x-python",
   "name": "python",
   "nbconvert_exporter": "python",
   "pygments_lexer": "ipython2",
   "version": "2.7.10"
  }
 },
 "nbformat": 4,
 "nbformat_minor": 0
}
